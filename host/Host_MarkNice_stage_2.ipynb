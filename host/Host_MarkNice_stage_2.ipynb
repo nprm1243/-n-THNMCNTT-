{
 "cells": [
  {
   "cell_type": "code",
   "execution_count": 1,
   "id": "27f182f8",
   "metadata": {},
   "outputs": [],
   "source": [
    "import os\n",
    "import numpy as np\n",
    "import pandas as pd\n",
    "import mysql.connector as mysql\n",
    "from mysql.connector import Error\n",
    "import rsa\n",
    "import dotenv\n",
    "from dotenv import load_dotenv\n",
    "from rsa.pkcs1 import decrypt, encrypt\n",
    "import zipfile"
   ]
  },
  {
   "cell_type": "markdown",
   "id": "99131ebc",
   "metadata": {},
   "source": [
    "# Generate keys"
   ]
  },
  {
   "cell_type": "code",
   "execution_count": null,
   "id": "f4781111",
   "metadata": {},
   "outputs": [],
   "source": [
    "(public_key, private_key) = rsa.newkeys(2048)\n",
    "private_key_file = open(\"private_key.key\", \"w\")\n",
    "private_key_file.write(private_key.save_pkcs1().decode('utf-8'))\n",
    "private_key_file.close()\n",
    "public_key_file = open(\"public_key.key\", \"w\")\n",
    "public_key_file.write(public_key.save_pkcs1().decode(\"utf-8\"))\n",
    "public_key_file.close()"
   ]
  }
 ],
 "metadata": {
  "kernelspec": {
   "display_name": "Python 3 (ipykernel)",
   "language": "python",
   "name": "python3"
  },
  "language_info": {
   "codemirror_mode": {
    "name": "ipython",
    "version": 3
   },
   "file_extension": ".py",
   "mimetype": "text/x-python",
   "name": "python",
   "nbconvert_exporter": "python",
   "pygments_lexer": "ipython3",
   "version": "3.9.7"
  }
 },
 "nbformat": 4,
 "nbformat_minor": 5
}
