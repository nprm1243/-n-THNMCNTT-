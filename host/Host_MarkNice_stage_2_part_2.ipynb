{
 "cells": [
  {
   "cell_type": "code",
   "execution_count": 1,
   "id": "2766fea4",
   "metadata": {},
   "outputs": [],
   "source": [
    "import os\n",
    "import numpy as np\n",
    "import pandas as pd\n",
    "import mysql.connector as mysql\n",
    "from mysql.connector import Error\n",
    "import rsa\n",
    "import dotenv\n",
    "from dotenv import load_dotenv\n",
    "from rsa.pkcs1 import decrypt, encrypt\n",
    "import zipfile"
   ]
  },
  {
   "cell_type": "code",
   "execution_count": 2,
   "id": "bfa420cb",
   "metadata": {},
   "outputs": [],
   "source": [
    "HOST='localhost'\n",
    "USER='root'\n",
    "PASSWORD='12345678'\n",
    "TRACKINGFILE='C:/Users/nghi0/Documents/marknice/signal.txt'\n",
    "CLIENTS='client_1 client_2'\n",
    "USERPATH='C:/Users/nghi0/Documents/host'\n",
    "SHAREFOLDER='C:/Users/nghi0/Documents/marknice'"
   ]
  },
  {
   "cell_type": "markdown",
   "id": "8a2b8160",
   "metadata": {},
   "source": [
    "## Decrypt password file"
   ]
  },
  {
   "cell_type": "code",
   "execution_count": 3,
   "id": "9af480bf",
   "metadata": {},
   "outputs": [
    {
     "name": "stdout",
     "output_type": "stream",
     "text": [
      "21629Yv611hZ47Mr34tB3936c8OR0p9\n"
     ]
    }
   ],
   "source": [
    "with open('private_key.key') as private_key_file:\n",
    "    private_key = private_key_file.read()\n",
    "private_key = rsa.PrivateKey.load_pkcs1(private_key, 'PEM')\n",
    "with open('password_1.txt', 'rb') as file:\n",
    "    file_to_decrypt = file.read()\n",
    "decrypted_file = rsa.decrypt(file_to_decrypt, private_key).decode()\n",
    "print(decrypted_file)"
   ]
  },
  {
   "cell_type": "markdown",
   "id": "e9223bef",
   "metadata": {},
   "source": [
    "## Unzip file"
   ]
  },
  {
   "cell_type": "code",
   "execution_count": 4,
   "id": "2b0418bc",
   "metadata": {},
   "outputs": [],
   "source": [
    "fantasy_zip = zipfile.ZipFile(f'client_1.zip')\n",
    "fantasy_zip.setpassword(str.encode(str(decrypted_file)))\n",
    "fantasy_zip.extractall()\n",
    "fantasy_zip.close()"
   ]
  }
 ],
 "metadata": {
  "kernelspec": {
   "display_name": "Python 3 (ipykernel)",
   "language": "python",
   "name": "python3"
  },
  "language_info": {
   "codemirror_mode": {
    "name": "ipython",
    "version": 3
   },
   "file_extension": ".py",
   "mimetype": "text/x-python",
   "name": "python",
   "nbconvert_exporter": "python",
   "pygments_lexer": "ipython3",
   "version": "3.9.7"
  }
 },
 "nbformat": 4,
 "nbformat_minor": 5
}
