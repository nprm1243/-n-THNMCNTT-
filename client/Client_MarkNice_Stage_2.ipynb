{
 "cells": [
  {
   "cell_type": "code",
   "execution_count": 1,
   "id": "cf7073d1",
   "metadata": {},
   "outputs": [],
   "source": [
    "import os\n",
    "import rsa\n",
    "import zipfile\n",
    "import random, string\n",
    "import dotenv\n",
    "from dotenv import load_dotenv\n",
    "import pandas as pd\n",
    "import numpy as np\n",
    "from datetime import datetime\n",
    "from rsa.pkcs1 import decrypt, encrypt"
   ]
  },
  {
   "cell_type": "markdown",
   "id": "ae0d9f95",
   "metadata": {},
   "source": [
    "# Get public key and compressing with 7z"
   ]
  },
  {
   "cell_type": "markdown",
   "id": "22b61f30",
   "metadata": {},
   "source": [
    "## Generate password"
   ]
  },
  {
   "cell_type": "code",
   "execution_count": 2,
   "id": "e969e4c1",
   "metadata": {},
   "outputs": [
    {
     "data": {
      "text/plain": [
       "'21629Yv611hZ47Mr34tB3936c8OR0p9'"
      ]
     },
     "execution_count": 2,
     "metadata": {},
     "output_type": "execute_result"
    }
   ],
   "source": [
    "password = '';\n",
    "dau = ['.', '^', '&', '$', '#', '@', ',', '`']\n",
    "for i in range(31):\n",
    "    tmp = random.randint(1, 2)\n",
    "    if (tmp == 1):\n",
    "        password += random.choice(string.ascii_letters)\n",
    "    elif (tmp == 2):\n",
    "        password += str(random.randint(0, 9))\n",
    "    else:\n",
    "        password += dau[random.randint(0, len(dau) - 1)]      \n",
    "        \n",
    "password"
   ]
  },
  {
   "cell_type": "markdown",
   "id": "71b54e98",
   "metadata": {},
   "source": [
    "## Compress with password"
   ]
  },
  {
   "cell_type": "code",
   "execution_count": 3,
   "id": "6b170138",
   "metadata": {},
   "outputs": [
    {
     "data": {
      "text/plain": [
       "0"
      ]
     },
     "execution_count": 3,
     "metadata": {},
     "output_type": "execute_result"
    }
   ],
   "source": [
    "check_path = \"C:/Users/Admin/Desktop/Contain/\"\n",
    "ZIPPATH = \"C:/Program Files/7-Zip/\"\n",
    "ZIPFILE = check_path + \"client_1.zip\"\n",
    "FILETOZIP = check_path + \"client_1.csv\"\n",
    "\n",
    "batchfile_data = f'''@ECHO OFF\n",
    "set PATH=%PATH%;{ZIPPATH}\n",
    "7z a {ZIPFILE} {FILETOZIP} -p{password}'''\n",
    "batchfile = open(check_path + 'compress.bat', 'w')\n",
    "batchfile.write(batchfile_data)\n",
    "batchfile.close()\n",
    "os.system(check_path + 'compress.bat')\n"
   ]
  },
  {
   "cell_type": "markdown",
   "id": "7d3a6b7d",
   "metadata": {},
   "source": [
    "## Encrypt password"
   ]
  },
  {
   "cell_type": "code",
   "execution_count": 4,
   "id": "f4f08189",
   "metadata": {},
   "outputs": [],
   "source": [
    "HOSTPATH=r'\\\\25.50.165.179\\marknice\\\\'\n",
    "PASSWORDFILENAME='password_1.txt'\n",
    "\n",
    "with open(HOSTPATH + '\\public_key.key') as public_key_file:\n",
    "    public_key = public_key_file.read()\n",
    "public_key = rsa.PublicKey.load_pkcs1(public_key, 'PEM')\n",
    "encrypted_message = rsa.encrypt(str.encode(password), public_key)\n",
    "encrypted_file = open(check_path+f'{PASSWORDFILENAME}', 'wb')\n",
    "encrypted_file.write(encrypted_message)\n",
    "encrypted_file.close()"
   ]
  },
  {
   "cell_type": "markdown",
   "id": "2113d335",
   "metadata": {},
   "source": [
    "## Send files to host"
   ]
  }
 ],
 "metadata": {
  "kernelspec": {
   "display_name": "Python 3 (ipykernel)",
   "language": "python",
   "name": "python3"
  },
  "language_info": {
   "codemirror_mode": {
    "name": "ipython",
    "version": 3
   },
   "file_extension": ".py",
   "mimetype": "text/x-python",
   "name": "python",
   "nbconvert_exporter": "python",
   "pygments_lexer": "ipython3",
   "version": "3.9.7"
  }
 },
 "nbformat": 4,
 "nbformat_minor": 5
}
