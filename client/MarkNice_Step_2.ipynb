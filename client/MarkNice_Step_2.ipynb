{
 "cells": [
  {
   "cell_type": "code",
   "execution_count": 1,
   "id": "317df825",
   "metadata": {},
   "outputs": [],
   "source": [
    "import warnings\n",
    "warnings.filterwarnings('ignore')"
   ]
  },
  {
   "cell_type": "markdown",
   "id": "c32b3d78",
   "metadata": {},
   "source": [
    "# 1.Clean data"
   ]
  },
  {
   "cell_type": "code",
   "execution_count": 2,
   "id": "0a4da066",
   "metadata": {},
   "outputs": [],
   "source": [
    "import os\n",
    "import pandas as pd\n",
    "import numpy as np\n",
    "\n",
    "#path_host = r\"C:\\Users\\client_2\\Documents\\\\\"\n",
    "\n",
    "with open('books_new_N2.csv') as f:\n",
    "    data = pd.read_csv(f)\n",
    "data.drop_duplicates()\n",
    "\n",
    "clean_author = data[\"Title\"]\n",
    "clean_subgenre = data[\"SubGenre\"]\n",
    "\n",
    "for i in range(len(clean_author)):   \n",
    "    if ', ' in str(clean_author[i]):\n",
    "        index = str(clean_author[i]).index(\",\")\n",
    "        if 'The' in str(clean_author[i]):\n",
    "            clean_author[i] = 'The ' + clean_author[i][:index]\n",
    "        if 'A' in str(clean_author[i]):\n",
    "            clean_author[i] = 'A ' + clean_author[i][:index]\n",
    "        if 'An' in str(clean_author[i]):\n",
    "            clean_author[i] = 'An ' + clean_author[i][:index]\n",
    "        if 'Foudation' in str(clean_author[i]):\n",
    "            clean_author[i] = 'Foudation ' + clean_author[i][:index]\n",
    "            \n",
    "for i in range(len(clean_subgenre)):\n",
    "    if '_' in str(clean_subgenre[i]):\n",
    "        clean_subgenre[i] = str(clean_subgenre[i]).replace(\"_\",\" \",1)\n",
    "\n",
    "check_path = r\"C:\\Users\\Admin\\Desktop\\Contain\\\\\"\n",
    "data.to_csv(check_path+\"clean.csv\",index=False)"
   ]
  },
  {
   "cell_type": "code",
   "execution_count": 3,
   "id": "284314c1",
   "metadata": {},
   "outputs": [
    {
     "data": {
      "text/plain": [
       "['clean.csv']"
      ]
     },
     "execution_count": 3,
     "metadata": {},
     "output_type": "execute_result"
    }
   ],
   "source": [
    "os.listdir(check_path)"
   ]
  },
  {
   "cell_type": "markdown",
   "id": "42c3672d",
   "metadata": {},
   "source": [
    "# 2.Split data into 2 parts"
   ]
  },
  {
   "cell_type": "code",
   "execution_count": 4,
   "id": "040c5a71",
   "metadata": {},
   "outputs": [],
   "source": [
    "import numpy as np\n",
    "import pandas as pd\n",
    "from sklearn.model_selection import train_test_split\n",
    "\n",
    "data = pd.read_csv(\"clean.csv\")\n",
    "# split dataset using train_test_split\n",
    "client_1, client_2 = train_test_split(data, train_size = 0.5, test_size = 0.5, random_state = 2021)\n",
    "#save file\n",
    "client_1.to_csv(check_path+\"client_1.csv\", index = False)\n",
    "client_2.to_csv(check_path+\"client_2.csv\", index = False)"
   ]
  },
  {
   "cell_type": "code",
   "execution_count": 5,
   "id": "14868c6f",
   "metadata": {},
   "outputs": [
    {
     "data": {
      "text/plain": [
       "['clean.csv', 'client_1.csv', 'client_2.csv']"
      ]
     },
     "execution_count": 5,
     "metadata": {},
     "output_type": "execute_result"
    }
   ],
   "source": [
    "os.listdir(check_path)"
   ]
  },
  {
   "cell_type": "code",
   "execution_count": null,
   "id": "0419f26d",
   "metadata": {},
   "outputs": [],
   "source": []
  }
 ],
 "metadata": {
  "kernelspec": {
   "display_name": "Python 3 (ipykernel)",
   "language": "python",
   "name": "python3"
  },
  "language_info": {
   "codemirror_mode": {
    "name": "ipython",
    "version": 3
   },
   "file_extension": ".py",
   "mimetype": "text/x-python",
   "name": "python",
   "nbconvert_exporter": "python",
   "pygments_lexer": "ipython3",
   "version": "3.9.7"
  }
 },
 "nbformat": 4,
 "nbformat_minor": 5
}
